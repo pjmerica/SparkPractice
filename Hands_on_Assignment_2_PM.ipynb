{
  "nbformat": 4,
  "nbformat_minor": 0,
  "metadata": {
    "colab": {
      "name": "Hands-on Assignment 2 PM.ipynb",
      "provenance": []
    },
    "kernelspec": {
      "name": "python3",
      "display_name": "Python 3"
    },
    "language_info": {
      "name": "python"
    }
  },
  "cells": [
    {
      "cell_type": "markdown",
      "source": [
        "\n",
        "# **Install Java, Spark, and Findspark**\n",
        "\n",
        "This installs Apache Spark, Java 8, and Findspark, a library that makes it easy for Python to find Spark."
      ],
      "metadata": {
        "id": "SyzoAJDnk-_e"
      }
    },
    {
      "cell_type": "code",
      "execution_count": 48,
      "metadata": {
        "id": "fUhBhrGmyAvs",
        "colab": {
          "base_uri": "https://localhost:8080/"
        },
        "outputId": "9e52a6e6-ee75-4d58-b7f4-900da00b1141"
      },
      "outputs": [
        {
          "output_type": "stream",
          "name": "stdout",
          "text": [
            "Hit:1 https://cloud.r-project.org/bin/linux/ubuntu bionic-cran40/ InRelease\n",
            "Ign:2 https://developer.download.nvidia.com/compute/cuda/repos/ubuntu1804/x86_64  InRelease\n",
            "Hit:3 http://security.ubuntu.com/ubuntu bionic-security InRelease\n",
            "Ign:4 https://developer.download.nvidia.com/compute/machine-learning/repos/ubuntu1804/x86_64  InRelease\n",
            "Hit:5 https://developer.download.nvidia.com/compute/cuda/repos/ubuntu1804/x86_64  Release\n",
            "Hit:6 https://developer.download.nvidia.com/compute/machine-learning/repos/ubuntu1804/x86_64  Release\n",
            "Hit:7 http://ppa.launchpad.net/c2d4u.team/c2d4u4.0+/ubuntu bionic InRelease\n",
            "Hit:10 http://archive.ubuntu.com/ubuntu bionic InRelease\n",
            "Hit:11 http://archive.ubuntu.com/ubuntu bionic-updates InRelease\n",
            "Hit:12 http://ppa.launchpad.net/cran/libgit2/ubuntu bionic InRelease\n",
            "Hit:13 http://archive.ubuntu.com/ubuntu bionic-backports InRelease\n",
            "Hit:14 http://ppa.launchpad.net/deadsnakes/ppa/ubuntu bionic InRelease\n",
            "Hit:15 http://ppa.launchpad.net/graphics-drivers/ppa/ubuntu bionic InRelease\n",
            "Reading package lists...\n"
          ]
        }
      ],
      "source": [
        "%%bash\n",
        "sudo apt-get update\n",
        "apt-get install openjdk-8-jdk-headless -qq > /dev/null\n",
        "[ ! -e \"$(basename spark-3.1.2-bin-hadoop2.7.tgz)\" ] && wget  http://apache.osuosl.org/spark/spark-3.1.2/spark-3.1.2-bin-hadoop2.7.tgz  \n",
        "tar xf spark-3.1.2-bin-hadoop2.7.tgz\n",
        "pip install -q findspark"
      ]
    },
    {
      "cell_type": "markdown",
      "source": [
        "# **Set Environment Variables**\n",
        "\n",
        "Set the locations where Spark and Java are installed."
      ],
      "metadata": {
        "id": "m-l8JtYDlKPQ"
      }
    },
    {
      "cell_type": "code",
      "source": [
        "import os\n",
        "os.environ[\"JAVA_HOME\"] = \"/usr/lib/jvm/java-8-openjdk-amd64\"\n",
        "os.environ[\"SPARK_HOME\"] = \"/content/spark-3.1.2-bin-hadoop2.7\""
      ],
      "metadata": {
        "id": "Mbb1obTdf0kM"
      },
      "execution_count": 49,
      "outputs": []
    },
    {
      "cell_type": "markdown",
      "source": [
        "# **Start a SparkSession**\n",
        "\n",
        "This will start a local Spark session. Prior to Spark 2.0.0 sparkContext was used. However in order to use APIs of SQL, HIVE, and Streaming, separate contexts need to be created.\n",
        "\n",
        "SPARK 2.0.0 onwards, SparkSession provides a single point of entry to use DataFrame and Dataset APIs. All the functionality available with sparkContext are also available in sparkSession. It is recommended to use Spark session in stead of Spark context now.\n",
        "\n",
        "Refer: http://spark.apache.org/docs/2.4.0/api/python/index.html"
      ],
      "metadata": {
        "id": "NZN6KvjtlPSd"
      }
    },
    {
      "cell_type": "code",
      "source": [
        "import findspark\n",
        "findspark.init()\n",
        "from pyspark.sql import SparkSession\n",
        "from pyspark.sql import functions as F\n",
        "\n",
        "# get a spark session. \n",
        "spark = SparkSession.builder.master(\"local[*]\").getOrCreate()"
      ],
      "metadata": {
        "id": "3F_QLYpNlXCu"
      },
      "execution_count": 50,
      "outputs": []
    },
    {
      "cell_type": "markdown",
      "source": [
        "# Create Dataframe in Spark!\n",
        "\n",
        "Now you can create a Dataframe in spark. Download file from https://storage.googleapis.com/mbcc/datasets/detroit_demolitions_dataset.csv using wget and then create a dataframe using 'read.csv' function on spark session object.\n",
        "\n",
        "In this implementation we allow the spark API to infer schema. We also set header=True so that the first line is not inserted as a row and instead is used as column names. We can do this for this dataset as the first line has the column names and hence convenient to use inferSchema attribute.\n",
        "# Alternative - Defining your own schema\n",
        "\n",
        "Instead of allowing Spark api to determine the schema, you can define your own schema by setting the schema = demolition_schema\n",
        "\n",
        "where 'demolition_schema' is the schema definition you need to construct before setting that argument.\n",
        "References\n",
        "\n",
        "https://docs.databricks.com/getting-started/spark/dataframes.html#load-sample-data\n",
        "\n",
        "https://docs.databricks.com/data/data-sources/read-csv.html"
      ],
      "metadata": {
        "id": "hip0tUDInYFS"
      }
    },
    {
      "cell_type": "markdown",
      "source": [
        "# Reading in the Data"
      ],
      "metadata": {
        "id": "aNoyRHPIdPbF"
      }
    },
    {
      "cell_type": "code",
      "execution_count": 51,
      "metadata": {
        "id": "XJp8ZI-VzYEz"
      },
      "outputs": [],
      "source": [
        "! [ ! -e \"$(basename COVID_data.csv)\" ] && wget  'https://storage.googleapis.com/hk1159/COVID_data.csv'\n",
        "df = spark.read.csv('COVID_data.csv',\n",
        "                      header= True, \n",
        "                      inferSchema = True)\n"
      ]
    },
    {
      "cell_type": "markdown",
      "source": [
        "# Cleaning/Scrubbing Data \n",
        "\n"
      ],
      "metadata": {
        "id": "WNt2HBw9rS_3"
      }
    },
    {
      "cell_type": "markdown",
      "source": [
        "## Creating a Combined date field\n"
      ],
      "metadata": {
        "id": "kf3pixUH-NBq"
      }
    },
    {
      "cell_type": "code",
      "source": [
        "df = df.withColumn(\"Full Date\", F.concat(F.col(\"month\"),F.lit('/'),\n",
        "    F.col(\"year\")))\n",
        "\n",
        "print(df.columns)\n",
        "df.printSchema()\n",
        "df.head(3)"
      ],
      "metadata": {
        "id": "sOuVO5MfrfRb",
        "colab": {
          "base_uri": "https://localhost:8080/"
        },
        "outputId": "6af61df7-9db0-4df5-eff5-e489fb1bb0d5"
      },
      "execution_count": 52,
      "outputs": [
        {
          "output_type": "stream",
          "name": "stdout",
          "text": [
            "['row_id', 'code', 'country', 'region_code', 'region', 'wave', 'month', 'year', 'indicator_topic', 'indicator', 'indicator_description', 'indicator_display', 'indicator_val', 'urban_rural', 'industry', 'sample_subset', 'sample_total', 'FCS', 'income_group', 'lending_category', 'unit_measure', 'measure_type', 'GDP_pc', 'ln_GDP_pc', 'many_waves', 'weight_type', 'footnote', 'survey_producer', 'survey_link', 'last_updated', 'source', 'Full Date']\n",
            "root\n",
            " |-- row_id: integer (nullable = true)\n",
            " |-- code: string (nullable = true)\n",
            " |-- country: string (nullable = true)\n",
            " |-- region_code: string (nullable = true)\n",
            " |-- region: string (nullable = true)\n",
            " |-- wave: string (nullable = true)\n",
            " |-- month: integer (nullable = true)\n",
            " |-- year: integer (nullable = true)\n",
            " |-- indicator_topic: string (nullable = true)\n",
            " |-- indicator: string (nullable = true)\n",
            " |-- indicator_description: string (nullable = true)\n",
            " |-- indicator_display: string (nullable = true)\n",
            " |-- indicator_val: double (nullable = true)\n",
            " |-- urban_rural: string (nullable = true)\n",
            " |-- industry: string (nullable = true)\n",
            " |-- sample_subset: integer (nullable = true)\n",
            " |-- sample_total: integer (nullable = true)\n",
            " |-- FCS: string (nullable = true)\n",
            " |-- income_group: string (nullable = true)\n",
            " |-- lending_category: string (nullable = true)\n",
            " |-- unit_measure: string (nullable = true)\n",
            " |-- measure_type: string (nullable = true)\n",
            " |-- GDP_pc: integer (nullable = true)\n",
            " |-- ln_GDP_pc: integer (nullable = true)\n",
            " |-- many_waves: integer (nullable = true)\n",
            " |-- weight_type: string (nullable = true)\n",
            " |-- footnote: string (nullable = true)\n",
            " |-- survey_producer: string (nullable = true)\n",
            " |-- survey_link: string (nullable = true)\n",
            " |-- last_updated: string (nullable = true)\n",
            " |-- source: string (nullable = true)\n",
            " |-- Full Date: string (nullable = true)\n",
            "\n"
          ]
        },
        {
          "output_type": "execute_result",
          "data": {
            "text/plain": [
              "[Row(row_id=1, code='AFG', country='Afghanistan', region_code='SAR', region='South Asia', wave='WAVE1', month=9, year=2020, indicator_topic='Demographic', indicator='Demo_educ1', indicator_description='% respondent by level of education - No education', indicator_display='Level of education - No education', indicator_val=70.0, urban_rural='National', industry='All', sample_subset=5013, sample_total=5057, FCS='High-Intensity Conflict', income_group='Low income', lending_category='IDA', unit_measure='Percent of respondent', measure_type='p', GDP_pc=2065, ln_GDP_pc=8, many_waves=0, weight_type='Individual weight', footnote=None, survey_producer=None, survey_link=None, last_updated='03/8/2022 16:44PM', source='High Frequency Phone Survey', Full Date='9/2020'),\n",
              " Row(row_id=2, code='AFG', country='Afghanistan', region_code='SAR', region='South Asia', wave='WAVE1', month=9, year=2020, indicator_topic='Demographic', indicator='Demo_educ2', indicator_description='% respondent by level of education - Any Primary', indicator_display='Level of education - Any Primary', indicator_val=5.0, urban_rural='National', industry='All', sample_subset=5013, sample_total=5057, FCS='High-Intensity Conflict', income_group='Low income', lending_category='IDA', unit_measure='Percent of respondent', measure_type='p', GDP_pc=2065, ln_GDP_pc=8, many_waves=0, weight_type='Individual weight', footnote='(*) the category includes incomplete and complete primary', survey_producer=None, survey_link=None, last_updated='03/8/2022 16:44PM', source='High Frequency Phone Survey', Full Date='9/2020'),\n",
              " Row(row_id=3, code='AFG', country='Afghanistan', region_code='SAR', region='South Asia', wave='WAVE1', month=9, year=2020, indicator_topic='Demographic', indicator='Demo_educ3', indicator_description='% respondent by level of education - Any Secondary', indicator_display='Level of education - Any Secondary', indicator_val=16.0, urban_rural='National', industry='All', sample_subset=5013, sample_total=5057, FCS='High-Intensity Conflict', income_group='Low income', lending_category='IDA', unit_measure='Percent of respondent', measure_type='p', GDP_pc=2065, ln_GDP_pc=8, many_waves=0, weight_type='Individual weight', footnote='(*) the category includes incomplete and complete secondary', survey_producer=None, survey_link=None, last_updated='03/8/2022 16:44PM', source='High Frequency Phone Survey', Full Date='9/2020')]"
            ]
          },
          "metadata": {},
          "execution_count": 52
        }
      ]
    },
    {
      "cell_type": "markdown",
      "source": [
        "## Counting NA's in each column"
      ],
      "metadata": {
        "id": "xx3hRMiDY8tH"
      }
    },
    {
      "cell_type": "code",
      "source": [
        "from pyspark.sql.functions import col,isnan,when,count\n",
        "df.select([count(when(isnan(c) | col(c).isNull(), c)).alias(c) for c in df.columns]\n",
        "   ).show()"
      ],
      "metadata": {
        "colab": {
          "base_uri": "https://localhost:8080/"
        },
        "id": "2GQEgkJZYvMo",
        "outputId": "29ef3427-ff97-438c-d027-59f8a4bbc2ac"
      },
      "execution_count": 53,
      "outputs": [
        {
          "output_type": "stream",
          "name": "stdout",
          "text": [
            "+------+----+-------+-----------+------+----+-----+----+---------------+---------+---------------------+-----------------+-------------+-----------+--------+-------------+------------+-----+------------+----------------+------------+------------+------+---------+----------+-----------+--------+---------------+-----------+------------+------+---------+\n",
            "|row_id|code|country|region_code|region|wave|month|year|indicator_topic|indicator|indicator_description|indicator_display|indicator_val|urban_rural|industry|sample_subset|sample_total|  FCS|income_group|lending_category|unit_measure|measure_type|GDP_pc|ln_GDP_pc|many_waves|weight_type|footnote|survey_producer|survey_link|last_updated|source|Full Date|\n",
            "+------+----+-------+-----------+------+----+-----+----+---------------+---------+---------------------+-----------------+-------------+-----------+--------+-------------+------------+-----+------------+----------------+------------+------------+------+---------+----------+-----------+--------+---------------+-----------+------------+------+---------+\n",
            "|     0|   0|      0|          0|     0|   0|    4|   0|              0|        0|                    0|                0|            0|       5957|       0|            0|           4|85675|           0|               0|           0|           0|   844|      844|         0|          0|  117687|          44854|      46631|           0|     0|        4|\n",
            "+------+----+-------+-----------+------+----+-----+----+---------------+---------+---------------------+-----------------+-------------+-----------+--------+-------------+------------+-----+------------+----------------+------------+------------+------+---------+----------+-----------+--------+---------------+-----------+------------+------+---------+\n",
            "\n"
          ]
        }
      ]
    },
    {
      "cell_type": "markdown",
      "source": [
        "## Filling the NA's with a non-sense date\n"
      ],
      "metadata": {
        "id": "kPTi42cl8-_p"
      }
    },
    {
      "cell_type": "code",
      "source": [
        "df = df.fillna({'Full Date': '9/9999'})\n",
        "df.groupBy('Full Date').count().show()"
      ],
      "metadata": {
        "colab": {
          "base_uri": "https://localhost:8080/"
        },
        "id": "ii3nUxxr9DuD",
        "outputId": "775c0594-5e2d-4520-e9c5-d73d141188c1"
      },
      "execution_count": 54,
      "outputs": [
        {
          "output_type": "stream",
          "name": "stdout",
          "text": [
            "+---------+-----+\n",
            "|Full Date|count|\n",
            "+---------+-----+\n",
            "|  10/2021|  228|\n",
            "|   6/2021|14138|\n",
            "|   2/2021| 1860|\n",
            "|   9/9999|    4|\n",
            "|   1/2021| 3215|\n",
            "|   9/2021|  268|\n",
            "|   9/2020| 4905|\n",
            "|   5/2020|12598|\n",
            "|  10/2020| 5439|\n",
            "|   7/2021| 2638|\n",
            "|  11/2021|  591|\n",
            "|   3/2020|  294|\n",
            "|  12/2021|  140|\n",
            "|  11/2020| 4292|\n",
            "|  12/2020| 6674|\n",
            "|   3/2021| 5179|\n",
            "|   4/2021| 1929|\n",
            "|   6/2020|20983|\n",
            "|   5/2021| 5253|\n",
            "|   8/2021| 1905|\n",
            "+---------+-----+\n",
            "only showing top 20 rows\n",
            "\n"
          ]
        }
      ]
    },
    {
      "cell_type": "markdown",
      "source": [
        "## Look at what these 9/9999 date's look like\n"
      ],
      "metadata": {
        "id": "D53x9YmN9k-x"
      }
    },
    {
      "cell_type": "code",
      "source": [
        "df.where(df[\"Full Date\"] == \"9/9999\").show()"
      ],
      "metadata": {
        "colab": {
          "base_uri": "https://localhost:8080/"
        },
        "id": "U6FZ_chZ9p2i",
        "outputId": "56547bf2-0a15-4a15-8303-916de1ff88bc"
      },
      "execution_count": 55,
      "outputs": [
        {
          "output_type": "stream",
          "name": "stdout",
          "text": [
            "+------+----+-------+-----------+--------------------+-----+-----+----+---------------+----------------+---------------------+--------------------+-------------+-----------+------------+-------------+------------+----+------------+----------------+--------------------+------------+------+---------+----------+-----------+--------+---------------+-----------+-----------------+--------------------+---------+\n",
            "|row_id|code|country|region_code|              region| wave|month|year|indicator_topic|       indicator|indicator_description|   indicator_display|indicator_val|urban_rural|    industry|sample_subset|sample_total| FCS|income_group|lending_category|        unit_measure|measure_type|GDP_pc|ln_GDP_pc|many_waves|weight_type|footnote|survey_producer|survey_link|     last_updated|              source|Full Date|\n",
            "+------+----+-------+-----------+--------------------+-----+-----+----+---------------+----------------+---------------------+--------------------+-------------+-----------+------------+-------------+------------+----+------------+----------------+--------------------+------------+------+---------+----------+-----------+--------+---------------+-----------+-----------------+--------------------+---------+\n",
            "| 92975| ROU|Romania|        ECA|Europe & Central ...|WAVE2| null|2020|    Demographic|Demo_male_sample| % Males responden...|Male respondents ...|         46.0|   National|         All|         2241|        null|null| High income|            IBRD|Percent of respon...|           p| 29875|       10|         1| Unweighted|    null|           null|       null|03/8/2022 16:44PM|High Frequency Ph...|   9/9999|\n",
            "| 92976| ROU|Romania|        ECA|Europe & Central ...|WAVE2| null|2020|    Demographic|Demo_male_sample| % Males responden...|Male respondents ...|         46.0|   National|Not reported|         2241|        null|null| High income|            IBRD|Percent of respon...|           p| 29875|       10|         1| Unweighted|    null|           null|       null|03/8/2022 16:44PM|High Frequency Ph...|   9/9999|\n",
            "| 92977| ROU|Romania|        ECA|Europe & Central ...|WAVE2| null|2020|    Demographic|Demo_male_sample| % Males responden...|Male respondents ...|         46.0|       null|         All|         2241|        null|null| High income|            IBRD|Percent of respon...|           p| 29875|       10|         1| Unweighted|    null|           null|       null|03/8/2022 16:44PM|High Frequency Ph...|   9/9999|\n",
            "| 92978| ROU|Romania|        ECA|Europe & Central ...|WAVE2| null|2020|    Demographic|Demo_male_sample| % Males responden...|Male respondents ...|         46.0|       null|Not reported|         2241|        null|null| High income|            IBRD|Percent of respon...|           p| 29875|       10|         1| Unweighted|    null|           null|       null|03/8/2022 16:44PM|High Frequency Ph...|   9/9999|\n",
            "+------+----+-------+-----------+--------------------+-----+-----+----+---------------+----------------+---------------------+--------------------+-------------+-----------+------------+-------------+------------+----+------------+----------------+--------------------+------------+------+---------+----------+-----------+--------+---------------+-----------+-----------------+--------------------+---------+\n",
            "\n"
          ]
        }
      ]
    },
    {
      "cell_type": "markdown",
      "source": [
        "## Rounding off the decimal place in Indicator Value"
      ],
      "metadata": {
        "id": "AWXv0LiwBJUE"
      }
    },
    {
      "cell_type": "code",
      "source": [
        "from pyspark.sql.functions import format_number\n",
        "df = df.withColumn('indicator_val', format_number('indicator_val', 0))\n",
        "df.show()"
      ],
      "metadata": {
        "colab": {
          "base_uri": "https://localhost:8080/"
        },
        "id": "fdTheFrFBL3X",
        "outputId": "9de02cb3-8937-4794-ff37-844505daf510"
      },
      "execution_count": 56,
      "outputs": [
        {
          "output_type": "stream",
          "name": "stdout",
          "text": [
            "+------+----+-----------+-----------+----------+-----+-----+----+---------------+----------------+---------------------+--------------------+-------------+-----------+--------------------+-------------+------------+--------------------+------------+----------------+--------------------+------------+------+---------+----------+-----------------+--------------------+---------------+-----------+-----------------+--------------------+---------+\n",
            "|row_id|code|    country|region_code|    region| wave|month|year|indicator_topic|       indicator|indicator_description|   indicator_display|indicator_val|urban_rural|            industry|sample_subset|sample_total|                 FCS|income_group|lending_category|        unit_measure|measure_type|GDP_pc|ln_GDP_pc|many_waves|      weight_type|            footnote|survey_producer|survey_link|     last_updated|              source|Full Date|\n",
            "+------+----+-----------+-----------+----------+-----+-----+----+---------------+----------------+---------------------+--------------------+-------------+-----------+--------------------+-------------+------------+--------------------+------------+----------------+--------------------+------------+------+---------+----------+-----------------+--------------------+---------------+-----------+-----------------+--------------------+---------+\n",
            "|     1| AFG|Afghanistan|        SAR|South Asia|WAVE1|    9|2020|    Demographic|      Demo_educ1| % respondent by l...|Level of educatio...|           70|   National|                 All|         5013|        5057|High-Intensity Co...|  Low income|             IDA|Percent of respon...|           p|  2065|        8|         0|Individual weight|                null|           null|       null|03/8/2022 16:44PM|High Frequency Ph...|   9/2020|\n",
            "|     2| AFG|Afghanistan|        SAR|South Asia|WAVE1|    9|2020|    Demographic|      Demo_educ2| % respondent by l...|Level of educatio...|            5|   National|                 All|         5013|        5057|High-Intensity Co...|  Low income|             IDA|Percent of respon...|           p|  2065|        8|         0|Individual weight|(*) the category ...|           null|       null|03/8/2022 16:44PM|High Frequency Ph...|   9/2020|\n",
            "|     3| AFG|Afghanistan|        SAR|South Asia|WAVE1|    9|2020|    Demographic|      Demo_educ3| % respondent by l...|Level of educatio...|           16|   National|                 All|         5013|        5057|High-Intensity Co...|  Low income|             IDA|Percent of respon...|           p|  2065|        8|         0|Individual weight|(*) the category ...|           null|       null|03/8/2022 16:44PM|High Frequency Ph...|   9/2020|\n",
            "|     4| AFG|Afghanistan|        SAR|South Asia|WAVE1|    9|2020|    Demographic|      Demo_educ4| % respondent by l...|Level of educatio...|           10|   National|                 All|         5013|        5057|High-Intensity Co...|  Low income|             IDA|Percent of respon...|           p|  2065|        8|         0|Individual weight|(*) the category ...|           null|       null|03/8/2022 16:44PM|High Frequency Ph...|   9/2020|\n",
            "|     5| AFG|Afghanistan|        SAR|South Asia|WAVE1|    9|2020|    Demographic|Demo_male_sample| % Males responden...|Male respondents ...|           71|   National|                 All|         5053|        5057|High-Intensity Co...|  Low income|             IDA|Percent of respon...|           p|  2065|        8|         0|       Unweighted|                null|           null|       null|03/8/2022 16:44PM|High Frequency Ph...|   9/2020|\n",
            "|     6| AFG|Afghanistan|        SAR|South Asia|WAVE1|    9|2020|      Financial|     Fina_access| % of HHs that cou...|Could not access ...|           82|   National|                 All|         5057|        5057|High-Intensity Co...|  Low income|             IDA|Percent of househ...|           p|  2065|        8|         0|Individual weight|                null|           null|       null|03/8/2022 16:44PM|High Frequency Ph...|   9/2020|\n",
            "|     7| AFG|Afghanistan|        SAR|South Asia|WAVE1|    9|2020|         Health|       Heal_need| % of HHs needing ...|Needed medical tr...|           58|   National|                 All|         5052|        5057|High-Intensity Co...|  Low income|             IDA|Percent of househ...|           p|  2065|        8|         0|Individual weight|(*) In SAR survey...|           null|       null|03/8/2022 16:44PM|High Frequency Ph...|   9/2020|\n",
            "|     8| AFG|Afghanistan|        SAR|South Asia|WAVE1|    9|2020|         Health|    Heal_reason1| Could not receive...|Could not receive...|           88|   National|                 All|          567|        5057|High-Intensity Co...|  Low income|             IDA|Percent of househ...|           p|  2065|        8|         0|Individual weight|                null|           null|       null|03/8/2022 16:44PM|High Frequency Ph...|   9/2020|\n",
            "|     9| AFG|Afghanistan|        SAR|South Asia|WAVE1|    9|2020|         Health|    Heal_reason2| Could not receive...|Could not receive...|            4|   National|                 All|          567|        5057|High-Intensity Co...|  Low income|             IDA|Percent of househ...|           p|  2065|        8|         0|Individual weight|                null|           null|       null|03/8/2022 16:44PM|High Frequency Ph...|   9/2020|\n",
            "|    10| AFG|Afghanistan|        SAR|South Asia|WAVE1|    9|2020|         Health|    Heal_reason3| Could not receive...|Could not receive...|            4|   National|                 All|          567|        5057|High-Intensity Co...|  Low income|             IDA|Percent of househ...|           p|  2065|        8|         0|Individual weight|                null|           null|       null|03/8/2022 16:44PM|High Frequency Ph...|   9/2020|\n",
            "|    11| AFG|Afghanistan|        SAR|South Asia|WAVE1|    9|2020|         Health|    Heal_reason8| Could not receive...|Could not receive...|            6|   National|                 All|          567|        5057|High-Intensity Co...|  Low income|             IDA|Percent of househ...|           p|  2065|        8|         0|Individual weight|                null|           null|       null|03/8/2022 16:44PM|High Frequency Ph...|   9/2020|\n",
            "|    12| AFG|Afghanistan|        SAR|South Asia|WAVE1|    9|2020|         Health|    Heal_reason9| Could not receive...|Could not receive...|            0|   National|                 All|          567|        5057|High-Intensity Co...|  Low income|             IDA|Percent of househ...|           p|  2065|        8|         0|Individual weight|                null|           null|       null|03/8/2022 16:44PM|High Frequency Ph...|   9/2020|\n",
            "|    13| AFG|Afghanistan|        SAR|South Asia|WAVE1|    9|2020|         Health|       Heal_rece| % of HHs  receive...|Received medical ...|           75|   National|                 All|         2768|        5057|High-Intensity Co...|  Low income|             IDA|Percent of househ...|           p|  2065|        8|         0|Individual weight|                null|           null|       null|03/8/2022 16:44PM|High Frequency Ph...|   9/2020|\n",
            "|    14| AFG|Afghanistan|        SAR|South Asia|WAVE1|    9|2020|        Housing|  Hous_ablepayre| % of HHs able to ...|Able to pay rent ...|           36|   National|                 All|         1853|        5057|High-Intensity Co...|  Low income|             IDA|Percent of househ...|           p|  2065|        8|         0|Individual weight|(*) over the hous...|           null|       null|03/8/2022 16:44PM|High Frequency Ph...|   9/2020|\n",
            "|    15| AFG|Afghanistan|        SAR|South Asia|WAVE1|    9|2020|        Housing|      Hous_moved| % of HHs moved si...|Moved since the s...|            4|   National|                 All|         3034|        5057|High-Intensity Co...|  Low income|             IDA|Percent of househ...|           p|  2065|        8|         0|Individual weight|(*) In SAR survey...|           null|       null|03/8/2022 16:44PM|High Frequency Ph...|   9/2020|\n",
            "|    16| AFG|Afghanistan|        SAR|South Asia|WAVE1|    9|2020|        Housing|        Hous_own| Ownership of curr...|Have ownership of...|           62|   National|                 All|         5055|        5057|High-Intensity Co...|  Low income|             IDA|Percent of househ...|           p|  2065|        8|         0|Individual weight|                null|           null|       null|03/8/2022 16:44PM|High Frequency Ph...|   9/2020|\n",
            "|    17| AFG|Afghanistan|        SAR|South Asia|WAVE1|    9|2020|          Labor|       Labo_empl| % of respondents ...|Currently employe...|           45|   National|                 All|         4883|        5057|High-Intensity Co...|  Low income|             IDA|Percent of respon...|           p|  2065|        8|         0|Individual weight|                null|           null|       null|03/8/2022 16:44PM|High Frequency Ph...|   9/2020|\n",
            "|    18| AFG|Afghanistan|        SAR|South Asia|WAVE1|    9|2020|          Labor|   Labo_employee| % of employed res...|Employed responde...|           58|   National|                 All|         2937|        5057|High-Intensity Co...|  Low income|             IDA|Percent of workin...|           p|  2065|        8|         0|Individual weight|                null|           null|       null|03/8/2022 16:44PM|High Frequency Ph...|   9/2020|\n",
            "|    19| AFG|Afghanistan|        SAR|South Asia|WAVE1|    9|2020|          Labor|   Labo_employee| % of employed res...|Employed responde...|           58|   National|         Agriculture|          434|        5057|High-Intensity Co...|  Low income|             IDA|Percent of workin...|           p|  2065|        8|         0|Individual weight|                null|           null|       null|03/8/2022 16:44PM|High Frequency Ph...|   9/2020|\n",
            "|    20| AFG|Afghanistan|        SAR|South Asia|WAVE1|    9|2020|          Labor|   Labo_employee| % of employed res...|Employed responde...|           65|   National|Mining/Manufacturing|          530|        5057|High-Intensity Co...|  Low income|             IDA|Percent of workin...|           p|  2065|        8|         0|Individual weight|                null|           null|       null|03/8/2022 16:44PM|High Frequency Ph...|   9/2020|\n",
            "+------+----+-----------+-----------+----------+-----+-----+----+---------------+----------------+---------------------+--------------------+-------------+-----------+--------------------+-------------+------------+--------------------+------------+----------------+--------------------+------------+------+---------+----------+-----------------+--------------------+---------------+-----------+-----------------+--------------------+---------+\n",
            "only showing top 20 rows\n",
            "\n"
          ]
        }
      ]
    },
    {
      "cell_type": "markdown",
      "source": [
        "## Changing the name of Indicator Values Column\n"
      ],
      "metadata": {
        "id": "q7wbICHLRA6Z"
      }
    },
    {
      "cell_type": "code",
      "source": [
        "df = df.withColumnRenamed(\"indicator_val\", \"indicator_values\")\n",
        "df.describe()"
      ],
      "metadata": {
        "colab": {
          "base_uri": "https://localhost:8080/"
        },
        "id": "z1xQjTHTRAoH",
        "outputId": "d00eb8f0-9d87-4701-d3e4-b965ffc90587"
      },
      "execution_count": 57,
      "outputs": [
        {
          "output_type": "execute_result",
          "data": {
            "text/plain": [
              "DataFrame[summary: string, row_id: string, code: string, country: string, region_code: string, region: string, wave: string, month: string, year: string, indicator_topic: string, indicator: string, indicator_description: string, indicator_display: string, indicator_values: string, urban_rural: string, industry: string, sample_subset: string, sample_total: string, FCS: string, income_group: string, lending_category: string, unit_measure: string, measure_type: string, GDP_pc: string, ln_GDP_pc: string, many_waves: string, weight_type: string, footnote: string, survey_producer: string, survey_link: string, last_updated: string, source: string, Full Date: string]"
            ]
          },
          "metadata": {},
          "execution_count": 57
        }
      ]
    },
    {
      "cell_type": "markdown",
      "source": [
        "# Some Summary Stats \n",
        "\n",
        "\n"
      ],
      "metadata": {
        "id": "WuKMcySFtB-G"
      }
    },
    {
      "cell_type": "markdown",
      "source": [
        "## Summary of Data Frame"
      ],
      "metadata": {
        "id": "KEgr-Jc6WOzu"
      }
    },
    {
      "cell_type": "code",
      "source": [
        "df.summary(\"count\", \"min\", \"25%\", \"75%\", \"max\").show()"
      ],
      "metadata": {
        "colab": {
          "base_uri": "https://localhost:8080/"
        },
        "id": "_l2DmejFXtAO",
        "outputId": "84cf9493-16ba-4d81-aaec-67e097dcba96"
      },
      "execution_count": 58,
      "outputs": [
        {
          "output_type": "stream",
          "name": "stdout",
          "text": [
            "+-------+------+------+-----------+-----------+-------------------+------+------+------+--------------------+--------------------+---------------------+--------------------+----------------+-----------+--------------+-------------+------------+--------------------+-------------------+----------------+--------------------+------------+------+---------+----------+----------------+--------------------+--------------------+--------------------+-----------------+--------------------+---------+\n",
            "|summary|row_id|  code|    country|region_code|             region|  wave| month|  year|     indicator_topic|           indicator|indicator_description|   indicator_display|indicator_values|urban_rural|      industry|sample_subset|sample_total|                 FCS|       income_group|lending_category|        unit_measure|measure_type|GDP_pc|ln_GDP_pc|many_waves|     weight_type|            footnote|     survey_producer|         survey_link|     last_updated|              source|Full Date|\n",
            "+-------+------+------+-----------+-----------+-------------------+------+------+------+--------------------+--------------------+---------------------+--------------------+----------------+-----------+--------------+-------------+------------+--------------------+-------------------+----------------+--------------------+------------+------+---------+----------+----------------+--------------------+--------------------+--------------------+-----------------+--------------------+---------+\n",
            "|  count|122855|122855|     122855|     122855|             122855|122855|122851|122855|              122855|              122855|               122855|              122855|          122855|     116898|        122855|       122855|      122851|               37180|             122855|          122855|              122855|      122855|122011|   122011|    122855|          122855|                5168|               78001|               76224|           122855|              122855|   122855|\n",
            "|    min|     1|   AFG|Afghanistan|        EAP|East Asia & Pacific| WAVE1|     1|  2020|   Assets & Services|          Asse_drink| % HHs had suffici...|Able to access an...|               0|   National|   Agriculture|           30|         288|High Institutiona...|        High income|              ..|    Number of people|           c|   945|        7|         0|Household weight|(*) Data collecte...|Institut National...|https://microdata...|03/8/2022 16:44PM|High Frequency Ph...|   1/2021|\n",
            "|    25%| 30715|  null|       null|       null|               null|  null|     5|  2020|                null|                null|                 null|                null|             9.0|       null|          null|           76|         959|                null|               null|            null|                null|        null|  2567|        8|         1|            null|                null|                null|                null|             null|                null|     null|\n",
            "|    75%| 92131|  null|       null|       null|               null|  null|     8|  2021|                null|                null|                 null|                null|            75.0|       null|          null|          582|        2000|                null|               null|            null|                null|        null| 12616|        9|         1|            null|                null|                null|                null|             null|                null|     null|\n",
            "|    max|122855|   ZWE|   Zimbabwe|        SSA| Sub-Saharan Africa| WAVE9|    12|  2021|Vaccination (Soci...|trust_vaccine_con...| average of househ...|Wore masks in pub...|              99|      Urban|Other services|        46053|       46053|Medium-Intensity ...|Upper middle income|             IDA|Percent of workin...|           p| 33185|       10|         1|      Unweighted|(*) the category ...|World Food Progra...|https://www.world...|03/8/2022 16:44PM| Social Media Survey|   9/9999|\n",
            "+-------+------+------+-----------+-----------+-------------------+------+------+------+--------------------+--------------------+---------------------+--------------------+----------------+-----------+--------------+-------------+------------+--------------------+-------------------+----------------+--------------------+------------+------+---------+----------+----------------+--------------------+--------------------+--------------------+-----------------+--------------------+---------+\n",
            "\n"
          ]
        }
      ]
    },
    {
      "cell_type": "markdown",
      "source": [
        "## Looking at how many rows there are for each country"
      ],
      "metadata": {
        "id": "onBSAmP3WSa6"
      }
    },
    {
      "cell_type": "code",
      "source": [
        "\n",
        "df.groupBy('country').count().show()\n"
      ],
      "metadata": {
        "colab": {
          "base_uri": "https://localhost:8080/"
        },
        "id": "JRGFlcpjtF7i",
        "outputId": "a516983a-9e26-4301-8a1d-f4634d8bf475"
      },
      "execution_count": 59,
      "outputs": [
        {
          "output_type": "stream",
          "name": "stdout",
          "text": [
            "+--------------------+-----+\n",
            "|             country|count|\n",
            "+--------------------+-----+\n",
            "|                Chad|  917|\n",
            "|            Paraguay| 2239|\n",
            "|             Senegal|  751|\n",
            "|              Guyana|  709|\n",
            "|         Philippines| 2142|\n",
            "|            Djibouti|  412|\n",
            "|            Malaysia|  799|\n",
            "|              Malawi| 3595|\n",
            "|                Iraq| 2909|\n",
            "|         Afghanistan|   38|\n",
            "|            Cambodia| 3162|\n",
            "|            Maldives|   39|\n",
            "|              Rwanda| 1140|\n",
            "|               Sudan| 3323|\n",
            "|           Sri Lanka|   39|\n",
            "|            Dominica|  844|\n",
            "|           Argentina| 2173|\n",
            "|Central African R...|  152|\n",
            "|             Ecuador| 3303|\n",
            "|  Mozambique (urban)| 2486|\n",
            "+--------------------+-----+\n",
            "only showing top 20 rows\n",
            "\n"
          ]
        }
      ]
    },
    {
      "cell_type": "markdown",
      "source": [
        "## Showing How Many Distinct Countries There Are\n"
      ],
      "metadata": {
        "id": "Uth9AGLK35F8"
      }
    },
    {
      "cell_type": "code",
      "source": [
        "df.registerTempTable(\"mytable\") \n",
        "total_countries = spark.sql(\"\"\"\n",
        "    SELECT COUNT(DISTINCT country)\n",
        "\tFROM mytable \n",
        "  \"\"\")\n",
        "print(type(total_countries))\n",
        "print(total_countries.describe())\n",
        "total_countries.show()"
      ],
      "metadata": {
        "colab": {
          "base_uri": "https://localhost:8080/"
        },
        "id": "vXwg_Rl-4Md4",
        "outputId": "93d0e330-4294-4f89-ea2d-255eb2fac996"
      },
      "execution_count": 60,
      "outputs": [
        {
          "output_type": "stream",
          "name": "stdout",
          "text": [
            "<class 'pyspark.sql.dataframe.DataFrame'>\n",
            "DataFrame[summary: string, count(DISTINCT country): string]\n",
            "+-----------------------+\n",
            "|count(DISTINCT country)|\n",
            "+-----------------------+\n",
            "|                     84|\n",
            "+-----------------------+\n",
            "\n"
          ]
        }
      ]
    },
    {
      "cell_type": "markdown",
      "source": [
        "\n",
        "# Filtering and Looking at columns\n"
      ],
      "metadata": {
        "id": "idN0VuaygU0e"
      }
    },
    {
      "cell_type": "markdown",
      "source": [
        "## Looking at a subset of Iraq and Wave 1 in a table"
      ],
      "metadata": {
        "id": "lzKwxii0O6KE"
      }
    },
    {
      "cell_type": "code",
      "source": [
        "columns= ['country','unit_measure','wave','ln_GDP_pc',\n",
        "          'measure_type']\n",
        "\n",
        "df.where((df['country'] == \"Iraq\") & (df['wave'] == \"WAVE1\"))\\\n",
        "                                                        .select(columns).show()"
      ],
      "metadata": {
        "id": "QywLXP_Hgh4Z",
        "colab": {
          "base_uri": "https://localhost:8080/"
        },
        "outputId": "d2922849-fe30-4b36-a0ad-ac050363d0c6"
      },
      "execution_count": 61,
      "outputs": [
        {
          "output_type": "stream",
          "name": "stdout",
          "text": [
            "+-------+--------------------+-----+---------+------------+\n",
            "|country|        unit_measure| wave|ln_GDP_pc|measure_type|\n",
            "+-------+--------------------+-----+---------+------------+\n",
            "|   Iraq|Percent of respon...|WAVE1|        9|           p|\n",
            "|   Iraq|Percent of respon...|WAVE1|        9|           p|\n",
            "|   Iraq|Percent of respon...|WAVE1|        9|           p|\n",
            "|   Iraq|Percent of respon...|WAVE1|        9|           p|\n",
            "|   Iraq|Percent of respon...|WAVE1|        9|           p|\n",
            "|   Iraq|Percent of respon...|WAVE1|        9|           p|\n",
            "|   Iraq|Percent of respon...|WAVE1|        9|           p|\n",
            "|   Iraq|Percent of respon...|WAVE1|        9|           p|\n",
            "|   Iraq|Percent of respon...|WAVE1|        9|           p|\n",
            "|   Iraq|Percent of respon...|WAVE1|        9|           p|\n",
            "|   Iraq|Percent of respon...|WAVE1|        9|           p|\n",
            "|   Iraq|Percent of respon...|WAVE1|        9|           p|\n",
            "|   Iraq|Percent of respon...|WAVE1|        9|           p|\n",
            "|   Iraq|Percent of respon...|WAVE1|        9|           p|\n",
            "|   Iraq|Percent of respon...|WAVE1|        9|           p|\n",
            "|   Iraq|Percent of respon...|WAVE1|        9|           p|\n",
            "|   Iraq|Percent of respon...|WAVE1|        9|           p|\n",
            "|   Iraq|Percent of respon...|WAVE1|        9|           p|\n",
            "|   Iraq|Percent of respon...|WAVE1|        9|           p|\n",
            "|   Iraq|Percent of respon...|WAVE1|        9|           p|\n",
            "+-------+--------------------+-----+---------+------------+\n",
            "only showing top 20 rows\n",
            "\n"
          ]
        }
      ]
    },
    {
      "cell_type": "markdown",
      "source": [
        "## Looking at how many rows had the country of Iraq and industries equal to \"All\"\n"
      ],
      "metadata": {
        "id": "M56AJbewO_s_"
      }
    },
    {
      "cell_type": "code",
      "source": [
        "df.filter((df[\"country\"] == \"Iraq\") & (df[\"industry\"] == \"All\")).count()"
      ],
      "metadata": {
        "colab": {
          "base_uri": "https://localhost:8080/"
        },
        "id": "XAZ55705Oj1H",
        "outputId": "db9c14f9-a265-44fa-d12b-216ee167d18f"
      },
      "execution_count": 62,
      "outputs": [
        {
          "output_type": "execute_result",
          "data": {
            "text/plain": [
              "798"
            ]
          },
          "metadata": {},
          "execution_count": 62
        }
      ]
    },
    {
      "cell_type": "markdown",
      "source": [
        "# Finding the Range of GDP %\n"
      ],
      "metadata": {
        "id": "3amnXddJlEg8"
      }
    },
    {
      "cell_type": "code",
      "source": [
        "from pyspark.sql.functions import max,min\n",
        "df.select(max(\"GDP_pc\"), min(\"GDP_pc\")).show()"
      ],
      "metadata": {
        "colab": {
          "base_uri": "https://localhost:8080/"
        },
        "id": "SJQ_veF8l_bQ",
        "outputId": "fb462040-e83b-436c-87c0-00849ba3a0eb"
      },
      "execution_count": 63,
      "outputs": [
        {
          "output_type": "stream",
          "name": "stdout",
          "text": [
            "+-----------+-----------+\n",
            "|max(GDP_pc)|min(GDP_pc)|\n",
            "+-----------+-----------+\n",
            "|      33185|        945|\n",
            "+-----------+-----------+\n",
            "\n"
          ]
        }
      ]
    },
    {
      "cell_type": "markdown",
      "source": [
        "# Tables showing the Iraq values\n"
      ],
      "metadata": {
        "id": "wilTQ91Owi42"
      }
    },
    {
      "cell_type": "code",
      "source": [
        "df.registerTempTable(\"mytable\") \n",
        "\n",
        "Iraq_country = spark.sql(\"\"\"\n",
        "    SELECT * FROM mytable where country like 'Iraq'\n",
        "\"\"\")\n",
        "print(type(Iraq_country))\n",
        "print(Iraq_country.describe())\n",
        "Iraq_country.show()"
      ],
      "metadata": {
        "colab": {
          "base_uri": "https://localhost:8080/"
        },
        "id": "_Tg4gMPDqcyI",
        "outputId": "76898d0e-313e-4c34-accb-ad811c5e7fc2"
      },
      "execution_count": 64,
      "outputs": [
        {
          "output_type": "stream",
          "name": "stdout",
          "text": [
            "<class 'pyspark.sql.dataframe.DataFrame'>\n",
            "DataFrame[summary: string, row_id: string, code: string, country: string, region_code: string, region: string, wave: string, month: string, year: string, indicator_topic: string, indicator: string, indicator_description: string, indicator_display: string, indicator_values: string, urban_rural: string, industry: string, sample_subset: string, sample_total: string, FCS: string, income_group: string, lending_category: string, unit_measure: string, measure_type: string, GDP_pc: string, ln_GDP_pc: string, many_waves: string, weight_type: string, footnote: string, survey_producer: string, survey_link: string, last_updated: string, source: string, Full Date: string]\n",
            "+------+----+-------+-----------+--------------------+-----+-----+----+---------------+----------+---------------------+--------------------+----------------+-----------+------------+-------------+------------+--------------------+-------------------+----------------+--------------------+------------+------+---------+----------+----------------+--------+--------------------+--------------------+-----------------+--------------------+---------+\n",
            "|row_id|code|country|region_code|              region| wave|month|year|indicator_topic| indicator|indicator_description|   indicator_display|indicator_values|urban_rural|    industry|sample_subset|sample_total|                 FCS|       income_group|lending_category|        unit_measure|measure_type|GDP_pc|ln_GDP_pc|many_waves|     weight_type|footnote|     survey_producer|         survey_link|     last_updated|              source|Full Date|\n",
            "+------+----+-------+-----------+--------------------+-----+-----+----+---------------+----------+---------------------+--------------------+----------------+-----------+------------+-------------+------------+--------------------+-------------------+----------------+--------------------+------------+------+---------+----------+----------------+--------+--------------------+--------------------+-----------------+--------------------+---------+\n",
            "| 49366| IRQ|   Iraq|        MNA|Middle East & Nor...|WAVE1|    8|2020|    Demographic|Demo_educ1| % respondent by l...|Level of educatio...|               6|   National|         All|         1619|        1621|Medium-Intensity ...|Upper middle income|            IBRD|Percent of respon...|           p| 10936|        9|         1|Household weight|    null|World Food Progra...|https://microdata...|03/8/2022 16:44PM|High Frequency Ph...|   8/2020|\n",
            "| 49367| IRQ|   Iraq|        MNA|Middle East & Nor...|WAVE1|    8|2020|    Demographic|Demo_educ1| % respondent by l...|Level of educatio...|               6|   National|Not reported|         1619|        1621|Medium-Intensity ...|Upper middle income|            IBRD|Percent of respon...|           p| 10936|        9|         1|Household weight|    null|World Food Progra...|https://microdata...|03/8/2022 16:44PM|High Frequency Ph...|   8/2020|\n",
            "| 49368| IRQ|   Iraq|        MNA|Middle East & Nor...|WAVE1|    8|2020|    Demographic|Demo_educ1| % respondent by l...|Level of educatio...|               3|      Urban|         All|          949|        1621|Medium-Intensity ...|Upper middle income|            IBRD|Percent of respon...|           p| 10936|        9|         1|Household weight|    null|World Food Progra...|https://microdata...|03/8/2022 16:44PM|High Frequency Ph...|   8/2020|\n",
            "| 49369| IRQ|   Iraq|        MNA|Middle East & Nor...|WAVE1|    8|2020|    Demographic|Demo_educ1| % respondent by l...|Level of educatio...|              11|      Rural|         All|          670|        1621|Medium-Intensity ...|Upper middle income|            IBRD|Percent of respon...|           p| 10936|        9|         1|Household weight|    null|World Food Progra...|https://microdata...|03/8/2022 16:44PM|High Frequency Ph...|   8/2020|\n",
            "| 49370| IRQ|   Iraq|        MNA|Middle East & Nor...|WAVE1|    8|2020|    Demographic|Demo_educ1| % respondent by l...|Level of educatio...|              11|      Rural|Not reported|          670|        1621|Medium-Intensity ...|Upper middle income|            IBRD|Percent of respon...|           p| 10936|        9|         1|Household weight|    null|World Food Progra...|https://microdata...|03/8/2022 16:44PM|High Frequency Ph...|   8/2020|\n",
            "| 49371| IRQ|   Iraq|        MNA|Middle East & Nor...|WAVE1|    8|2020|    Demographic|Demo_educ1| % respondent by l...|Level of educatio...|               3|      Urban|Not reported|          949|        1621|Medium-Intensity ...|Upper middle income|            IBRD|Percent of respon...|           p| 10936|        9|         1|Household weight|    null|World Food Progra...|https://microdata...|03/8/2022 16:44PM|High Frequency Ph...|   8/2020|\n",
            "| 49372| IRQ|   Iraq|        MNA|Middle East & Nor...|WAVE1|    8|2020|    Demographic|Demo_educ2| % respondent by l...|Level of educatio...|              26|   National|         All|         1619|        1621|Medium-Intensity ...|Upper middle income|            IBRD|Percent of respon...|           p| 10936|        9|         1|Household weight|    null|World Food Progra...|https://microdata...|03/8/2022 16:44PM|High Frequency Ph...|   8/2020|\n",
            "| 49373| IRQ|   Iraq|        MNA|Middle East & Nor...|WAVE1|    8|2020|    Demographic|Demo_educ2| % respondent by l...|Level of educatio...|              26|   National|Not reported|         1619|        1621|Medium-Intensity ...|Upper middle income|            IBRD|Percent of respon...|           p| 10936|        9|         1|Household weight|    null|World Food Progra...|https://microdata...|03/8/2022 16:44PM|High Frequency Ph...|   8/2020|\n",
            "| 49374| IRQ|   Iraq|        MNA|Middle East & Nor...|WAVE1|    8|2020|    Demographic|Demo_educ2| % respondent by l...|Level of educatio...|              21|      Urban|         All|          949|        1621|Medium-Intensity ...|Upper middle income|            IBRD|Percent of respon...|           p| 10936|        9|         1|Household weight|    null|World Food Progra...|https://microdata...|03/8/2022 16:44PM|High Frequency Ph...|   8/2020|\n",
            "| 49375| IRQ|   Iraq|        MNA|Middle East & Nor...|WAVE1|    8|2020|    Demographic|Demo_educ2| % respondent by l...|Level of educatio...|              39|      Rural|         All|          670|        1621|Medium-Intensity ...|Upper middle income|            IBRD|Percent of respon...|           p| 10936|        9|         1|Household weight|    null|World Food Progra...|https://microdata...|03/8/2022 16:44PM|High Frequency Ph...|   8/2020|\n",
            "| 49376| IRQ|   Iraq|        MNA|Middle East & Nor...|WAVE1|    8|2020|    Demographic|Demo_educ2| % respondent by l...|Level of educatio...|              21|      Urban|Not reported|          949|        1621|Medium-Intensity ...|Upper middle income|            IBRD|Percent of respon...|           p| 10936|        9|         1|Household weight|    null|World Food Progra...|https://microdata...|03/8/2022 16:44PM|High Frequency Ph...|   8/2020|\n",
            "| 49377| IRQ|   Iraq|        MNA|Middle East & Nor...|WAVE1|    8|2020|    Demographic|Demo_educ2| % respondent by l...|Level of educatio...|              39|      Rural|Not reported|          670|        1621|Medium-Intensity ...|Upper middle income|            IBRD|Percent of respon...|           p| 10936|        9|         1|Household weight|    null|World Food Progra...|https://microdata...|03/8/2022 16:44PM|High Frequency Ph...|   8/2020|\n",
            "| 49378| IRQ|   Iraq|        MNA|Middle East & Nor...|WAVE1|    8|2020|    Demographic|Demo_educ3| % respondent by l...|Level of educatio...|              20|   National|         All|         1619|        1621|Medium-Intensity ...|Upper middle income|            IBRD|Percent of respon...|           p| 10936|        9|         1|Household weight|    null|World Food Progra...|https://microdata...|03/8/2022 16:44PM|High Frequency Ph...|   8/2020|\n",
            "| 49379| IRQ|   Iraq|        MNA|Middle East & Nor...|WAVE1|    8|2020|    Demographic|Demo_educ3| % respondent by l...|Level of educatio...|              20|   National|Not reported|         1619|        1621|Medium-Intensity ...|Upper middle income|            IBRD|Percent of respon...|           p| 10936|        9|         1|Household weight|    null|World Food Progra...|https://microdata...|03/8/2022 16:44PM|High Frequency Ph...|   8/2020|\n",
            "| 49380| IRQ|   Iraq|        MNA|Middle East & Nor...|WAVE1|    8|2020|    Demographic|Demo_educ3| % respondent by l...|Level of educatio...|              20|      Rural|         All|          670|        1621|Medium-Intensity ...|Upper middle income|            IBRD|Percent of respon...|           p| 10936|        9|         1|Household weight|    null|World Food Progra...|https://microdata...|03/8/2022 16:44PM|High Frequency Ph...|   8/2020|\n",
            "| 49381| IRQ|   Iraq|        MNA|Middle East & Nor...|WAVE1|    8|2020|    Demographic|Demo_educ3| % respondent by l...|Level of educatio...|              20|      Urban|         All|          949|        1621|Medium-Intensity ...|Upper middle income|            IBRD|Percent of respon...|           p| 10936|        9|         1|Household weight|    null|World Food Progra...|https://microdata...|03/8/2022 16:44PM|High Frequency Ph...|   8/2020|\n",
            "| 49382| IRQ|   Iraq|        MNA|Middle East & Nor...|WAVE1|    8|2020|    Demographic|Demo_educ3| % respondent by l...|Level of educatio...|              20|      Urban|Not reported|          949|        1621|Medium-Intensity ...|Upper middle income|            IBRD|Percent of respon...|           p| 10936|        9|         1|Household weight|    null|World Food Progra...|https://microdata...|03/8/2022 16:44PM|High Frequency Ph...|   8/2020|\n",
            "| 49383| IRQ|   Iraq|        MNA|Middle East & Nor...|WAVE1|    8|2020|    Demographic|Demo_educ3| % respondent by l...|Level of educatio...|              20|      Rural|Not reported|          670|        1621|Medium-Intensity ...|Upper middle income|            IBRD|Percent of respon...|           p| 10936|        9|         1|Household weight|    null|World Food Progra...|https://microdata...|03/8/2022 16:44PM|High Frequency Ph...|   8/2020|\n",
            "| 49384| IRQ|   Iraq|        MNA|Middle East & Nor...|WAVE1|    8|2020|    Demographic|Demo_educ4| % respondent by l...|Level of educatio...|              48|   National|         All|         1619|        1621|Medium-Intensity ...|Upper middle income|            IBRD|Percent of respon...|           p| 10936|        9|         1|Household weight|    null|World Food Progra...|https://microdata...|03/8/2022 16:44PM|High Frequency Ph...|   8/2020|\n",
            "| 49385| IRQ|   Iraq|        MNA|Middle East & Nor...|WAVE1|    8|2020|    Demographic|Demo_educ4| % respondent by l...|Level of educatio...|              48|   National|Not reported|         1619|        1621|Medium-Intensity ...|Upper middle income|            IBRD|Percent of respon...|           p| 10936|        9|         1|Household weight|    null|World Food Progra...|https://microdata...|03/8/2022 16:44PM|High Frequency Ph...|   8/2020|\n",
            "+------+----+-------+-----------+--------------------+-----+-----+----+---------------+----------+---------------------+--------------------+----------------+-----------+------------+-------------+------------+--------------------+-------------------+----------------+--------------------+------------+------+---------+----------+----------------+--------+--------------------+--------------------+-----------------+--------------------+---------+\n",
            "only showing top 20 rows\n",
            "\n"
          ]
        }
      ]
    },
    {
      "cell_type": "markdown",
      "source": [
        "# Creating Two way Frequency table with Year and Income Group"
      ],
      "metadata": {
        "id": "iFISJEX5Iwz7"
      }
    },
    {
      "cell_type": "code",
      "source": [
        "Year_Freq = df.crosstab('year', 'income_group')\n",
        "Year_Freq.show()"
      ],
      "metadata": {
        "colab": {
          "base_uri": "https://localhost:8080/"
        },
        "id": "A9cDOtd_Iv-3",
        "outputId": "2831776c-3aea-4a03-8f3b-0bb86d5754a1"
      },
      "execution_count": 65,
      "outputs": [
        {
          "output_type": "stream",
          "name": "stdout",
          "text": [
            "+-----------------+-----------+----------+-------------------+-------------------+\n",
            "|year_income_group|High income|Low income|Lower middle income|Upper middle income|\n",
            "+-----------------+-----------+----------+-------------------+-------------------+\n",
            "|             2021|       2378|     11157|               8811|              14998|\n",
            "|             2020|       3369|     28569|              30028|              23545|\n",
            "+-----------------+-----------+----------+-------------------+-------------------+\n",
            "\n"
          ]
        }
      ]
    },
    {
      "cell_type": "markdown",
      "source": [
        "# Differences between Pandas and Spark\n"
      ],
      "metadata": {
        "id": "OV89Vln2xDBM"
      }
    },
    {
      "cell_type": "markdown",
      "source": [
        "1. The first big difference for me is that Spark has very easy to use SQL capabilities, which makes it easier to understand for someone who knows SQL well but not Python. Pandas has pandassql but it's not built in as easily. \n",
        "\n",
        "2. Spark seems to have messier outputs but it is easier to make things like the two way table above than Pandas.\n",
        " \n",
        "3. On the otherhand it seems like updating, deleting, and adding columns is easier in Pandas than spark.\n"
      ],
      "metadata": {
        "id": "z_Xdr-DJFief"
      }
    }
  ]
}